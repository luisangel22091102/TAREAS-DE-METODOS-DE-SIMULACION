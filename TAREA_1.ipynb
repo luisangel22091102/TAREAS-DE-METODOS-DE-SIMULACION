{
  "nbformat": 4,
  "nbformat_minor": 0,
  "metadata": {
    "colab": {
      "provenance": [],
      "authorship_tag": "ABX9TyOs/FA0IHY99aeqJV12rOhv",
      "include_colab_link": true
    },
    "kernelspec": {
      "name": "python3",
      "display_name": "Python 3"
    },
    "language_info": {
      "name": "python"
    }
  },
  "cells": [
    {
      "cell_type": "markdown",
      "metadata": {
        "id": "view-in-github",
        "colab_type": "text"
      },
      "source": [
        "<a href=\"https://colab.research.google.com/github/luisangel22091102/TAREAS-DE-METODOS-DE-SIMULACION/blob/main/TAREA_1.ipynb\" target=\"_parent\"><img src=\"https://colab.research.google.com/assets/colab-badge.svg\" alt=\"Open In Colab\"/></a>"
      ]
    },
    {
      "cell_type": "code",
      "execution_count": 1,
      "metadata": {
        "colab": {
          "base_uri": "https://localhost:8080/"
        },
        "id": "w-t3Bz9q9Dni",
        "outputId": "f2d7808e-de7a-4403-b12e-133374f3eaf5"
      },
      "outputs": [
        {
          "output_type": "stream",
          "name": "stdout",
          "text": [
            "128\n"
          ]
        }
      ],
      "source": [
        "#Calculo de terminos por separado\n",
        "def horner(coefs, x):\n",
        "    ac = 0\n",
        "    for i, a in enumerate(coefs):\n",
        "        ac += (x ** i) * a\n",
        "    return ac\n",
        "print(horner((-19,7,-4,6),3))"
      ]
    },
    {
      "cell_type": "code",
      "source": [
        "#Ejemplo 1\n",
        "def horner(coefs, x):\n",
        "    ac = 0\n",
        "    for i, a in enumerate(coefs):\n",
        "        ac += (x ** i) * a\n",
        "    return ac\n",
        "print(horner((12,3,-2,37),2))"
      ],
      "metadata": {
        "colab": {
          "base_uri": "https://localhost:8080/"
        },
        "id": "k2jNKooR9G1o",
        "outputId": "3212299f-f028-4a0c-8c17-8b63816e8833"
      },
      "execution_count": 2,
      "outputs": [
        {
          "output_type": "stream",
          "name": "stdout",
          "text": [
            "306\n"
          ]
        }
      ]
    },
    {
      "cell_type": "code",
      "source": [
        "#Ejemplo 2\n",
        "def horner(coefs, x):\n",
        "    ac = 0\n",
        "    for i, a in enumerate(coefs):\n",
        "        ac += (x ** i) * a\n",
        "    return ac\n",
        "print(horner((-20,24,45,56),5))"
      ],
      "metadata": {
        "colab": {
          "base_uri": "https://localhost:8080/"
        },
        "id": "MjONR4b39G5T",
        "outputId": "d0f8f7e7-1f3a-4c22-b4c4-ba2431a4c989"
      },
      "execution_count": 3,
      "outputs": [
        {
          "output_type": "stream",
          "name": "stdout",
          "text": [
            "8225\n"
          ]
        }
      ]
    },
    {
      "cell_type": "code",
      "source": [
        "#metodo iterativo\n",
        "def horner(coefs, x):\n",
        "    ac = 0\n",
        "    xn = 1\n",
        "    for i in coefs:\n",
        "        ac += xn * i\n",
        "        xn *= x\n",
        "    return ac\n",
        "print(horner((-19,7,-4,6),3))"
      ],
      "metadata": {
        "colab": {
          "base_uri": "https://localhost:8080/"
        },
        "id": "8kgp3ufz9G8W",
        "outputId": "695db979-8f98-46c0-e660-3ca0de2050e5"
      },
      "execution_count": 4,
      "outputs": [
        {
          "output_type": "stream",
          "name": "stdout",
          "text": [
            "128\n"
          ]
        }
      ]
    },
    {
      "cell_type": "code",
      "source": [
        "#Ejemplo 1\n",
        "def horner (coefs, x) :\n",
        "    ac = 0\n",
        "    xn = 1\n",
        "    for i in coefs:\n",
        "        ac += xn * i\n",
        "        xn *= x\n",
        "    return ac\n",
        "print (horner((12,3,-2,37),2))"
      ],
      "metadata": {
        "colab": {
          "base_uri": "https://localhost:8080/"
        },
        "id": "rcRzxnVB9G_V",
        "outputId": "b49a6a70-dba3-4e48-c444-c0afe9a3fe8c"
      },
      "execution_count": 5,
      "outputs": [
        {
          "output_type": "stream",
          "name": "stdout",
          "text": [
            "306\n"
          ]
        }
      ]
    },
    {
      "cell_type": "code",
      "source": [
        "#Ejemplo2\n",
        "def horner (coefs, x) :\n",
        "    ac = 0\n",
        "    xn = 1\n",
        "    for i in coefs:\n",
        "        ac += xn * i\n",
        "        xn *= x\n",
        "    return ac\n",
        "print (horner((-20,24,45,56),5))"
      ],
      "metadata": {
        "colab": {
          "base_uri": "https://localhost:8080/"
        },
        "id": "c1VhDlmb9HCD",
        "outputId": "0f706d84-9ba3-4cb4-e40e-a38d361621dc"
      },
      "execution_count": 6,
      "outputs": [
        {
          "output_type": "stream",
          "name": "stdout",
          "text": [
            "8225\n"
          ]
        }
      ]
    },
    {
      "cell_type": "code",
      "source": [
        "#Regla de Horner\n",
        "def horner(coefs, x):\n",
        "    ac = coefs[-1]\n",
        "    i = len(coefs) - 2\n",
        "    while i >= 0:\n",
        "        ac = ac * x + coefs[i]\n",
        "        i -= 1\n",
        "    return ac\n",
        "print(horner((-19,7,-4,6),3))"
      ],
      "metadata": {
        "colab": {
          "base_uri": "https://localhost:8080/"
        },
        "id": "cJDYkZqg9HFr",
        "outputId": "562db28f-4a9b-4609-ec61-f50de481a4a6"
      },
      "execution_count": 7,
      "outputs": [
        {
          "output_type": "stream",
          "name": "stdout",
          "text": [
            "128\n"
          ]
        }
      ]
    },
    {
      "cell_type": "code",
      "source": [
        "#Ejemplo 1\n",
        "def horner(coefs, x) :\n",
        "    ac = coefs[-1]\n",
        "    i = len (coefs) - 2\n",
        "    while i >= 0:\n",
        "        ac = ac * x + coefs[i]\n",
        "        i -= 1\n",
        "    return ac\n",
        "print (horner((12,3,-2,37),2) )"
      ],
      "metadata": {
        "colab": {
          "base_uri": "https://localhost:8080/"
        },
        "id": "REw1IaOs_JqA",
        "outputId": "e05f71d7-9009-450e-a567-e079669ed4b6"
      },
      "execution_count": 8,
      "outputs": [
        {
          "output_type": "stream",
          "name": "stdout",
          "text": [
            "306\n"
          ]
        }
      ]
    },
    {
      "cell_type": "code",
      "source": [
        "#Ejemplo 2\n",
        "def horner(coefs, x) :\n",
        "    ac = coefs[-1]\n",
        "    i = len (coefs) - 2\n",
        "    while i >= 0:\n",
        "        ac = ac * x + coefs[i]\n",
        "        i -= 1\n",
        "    return ac\n",
        "print (horner((-20,24,45,56),5) )"
      ],
      "metadata": {
        "colab": {
          "base_uri": "https://localhost:8080/"
        },
        "id": "7NdStZS6_KQX",
        "outputId": "cade55dd-6e80-49bd-e8c8-c6ec454c0184"
      },
      "execution_count": 9,
      "outputs": [
        {
          "output_type": "stream",
          "name": "stdout",
          "text": [
            "8225\n"
          ]
        }
      ]
    },
    {
      "cell_type": "code",
      "source": [
        " #Grafica de base de datos stars.dat utilizando el programa hrdiagram.py\n",
        "from pylab import scatter,xlabel,ylabel,xlim,ylim,show\n",
        "from numpy import loadtxt\n",
        "data = loadtxt(\"stars.dat\",float)\n",
        "x = data[:,0]\n",
        "y = data[:,1]\n",
        "scatter(x,y)\n",
        "xlabel(\"Temperature\")\n",
        "ylabel(\"Magnitude\")\n",
        "xlim(0,13000)\n",
        "ylim(-5,20)\n",
        "show()"
      ],
      "metadata": {
        "id": "C4t6Gz8n_KTx"
      },
      "execution_count": null,
      "outputs": []
    },
    {
      "cell_type": "code",
      "source": [
        "#Grafica de base de datos stars.dat sin utilizar la librería pylab\n",
        "import matplotlib.pyplot as plt\n",
        "import numpy as np\n",
        "data = np.loadtxt(\"stars.dat\", float)\n",
        "x = data[:, 0]\n",
        "y = data[:, 1]\n",
        "plt.scatter(x, y)\n",
        "plt.xlabel(\"Temperatura\")\n",
        "plt.ylabel(\"Magnitud\")\n",
        "plt.xlim(0, 13000)\n",
        "plt.ylim(-5, 20)\n",
        "plt.show()"
      ],
      "metadata": {
        "id": "Ewn4KPaG_X3V"
      },
      "execution_count": null,
      "outputs": []
    }
  ]
}