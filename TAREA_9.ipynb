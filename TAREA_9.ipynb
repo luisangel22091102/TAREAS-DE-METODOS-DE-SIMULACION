{
  "nbformat": 4,
  "nbformat_minor": 0,
  "metadata": {
    "colab": {
      "provenance": [],
      "authorship_tag": "ABX9TyNFm1vMcEibWvhfm3u+fH+5",
      "include_colab_link": true
    },
    "kernelspec": {
      "name": "python3",
      "display_name": "Python 3"
    },
    "language_info": {
      "name": "python"
    }
  },
  "cells": [
    {
      "cell_type": "markdown",
      "metadata": {
        "id": "view-in-github",
        "colab_type": "text"
      },
      "source": [
        "<a href=\"https://colab.research.google.com/github/luisangel22091102/TAREAS-DE-METODOS-DE-SIMULACION/blob/main/TAREA_9.ipynb\" target=\"_parent\"><img src=\"https://colab.research.google.com/assets/colab-badge.svg\" alt=\"Open In Colab\"/></a>"
      ]
    },
    {
      "cell_type": "code",
      "execution_count": 1,
      "metadata": {
        "colab": {
          "base_uri": "https://localhost:8080/"
        },
        "id": "zVzm2zxGM707",
        "outputId": "50db4899-660c-471c-e332-288f2e2061df"
      },
      "outputs": [
        {
          "output_type": "stream",
          "name": "stdout",
          "text": [
            "306\n",
            "8225\n",
            "306\n",
            "8225\n",
            "306\n",
            "8225\n",
            "El archivo 'stars.dat' no se encuentra. Verifique que el archivo esté en la misma carpeta.\n",
            "El archivo 'stars.dat' no se encuentra. Verifique que el archivo esté en la misma carpeta.\n"
          ]
        }
      ],
      "source": [
        "# Importar las librerías necesarias\n",
        "import matplotlib.pyplot as plt\n",
        "import numpy as np\n",
        "from pylab import scatter, xlabel, ylabel, xlim, ylim, show\n",
        "from numpy import loadtxt\n",
        "\n",
        "def horner(coefs, x):\n",
        "    ac = 0\n",
        "    for i, a in enumerate(coefs):\n",
        "        ac += (x ** i) * a\n",
        "    return ac\n",
        "\n",
        "# Ejemplo 1\n",
        "print(horner((12, 3, -2, 37), 2))\n",
        "\n",
        "# Ejemplo 2\n",
        "print(horner((-20, 24, 45, 56), 5))\n",
        "\n",
        "# Metodo iterativo\n",
        "def horner_iterativo(coefs, x):\n",
        "    ac = 0\n",
        "    xn = 1\n",
        "    for i in coefs:\n",
        "        ac += xn * i\n",
        "        xn *= x\n",
        "    return ac\n",
        "\n",
        "# Ejemplo 1 con metodo iterativo\n",
        "print(horner_iterativo((12, 3, -2, 37), 2))\n",
        "\n",
        "# Ejemplo 2 con metodo iterativo\n",
        "print(horner_iterativo((-20, 24, 45, 56), 5))\n",
        "\n",
        "# Regla de Horner (Método clásico)\n",
        "def horner_regla(coefs, x):\n",
        "    ac = coefs[-1]\n",
        "    i = len(coefs) - 2\n",
        "    while i >= 0:\n",
        "        ac = ac * x + coefs[i]\n",
        "        i -= 1\n",
        "    return ac\n",
        "\n",
        "# Ejemplo 1 con regla de Horner\n",
        "print(horner_regla((12, 3, -2, 37), 2))\n",
        "\n",
        "# Ejemplo 2 con regla de Horner\n",
        "print(horner_regla((-20, 24, 45, 56), 5))\n",
        "\n",
        "# Graficar base de datos stars.dat utilizando el programa hrdiagram.py\n",
        "try:\n",
        "    data = loadtxt(\"stars.dat\", float)  # Asegúrate de que el archivo stars.dat esté en la misma carpeta\n",
        "    x = data[:, 0]\n",
        "    y = data[:, 1]\n",
        "    scatter(x, y)\n",
        "    xlabel(\"Temperatura\")\n",
        "    ylabel(\"Magnitud\")\n",
        "    xlim(0, 13000)\n",
        "    ylim(-5, 20)\n",
        "    show()\n",
        "except FileNotFoundError:\n",
        "    print(\"El archivo 'stars.dat' no se encuentra. Verifique que el archivo esté en la misma carpeta.\")\n",
        "\n",
        "# Graficar base de datos stars.dat sin utilizar la librería pylab\n",
        "try:\n",
        "    data = np.loadtxt(\"stars.dat\", float)  # Asegúrate de que el archivo stars.dat esté en la misma carpeta\n",
        "    x = data[:, 0]\n",
        "    y = data[:, 1]\n",
        "    plt.scatter(x, y)\n",
        "    plt.xlabel(\"Temperatura\")\n",
        "    plt.ylabel(\"Magnitud\")\n",
        "    plt.xlim(0, 13000)\n",
        "    plt.ylim(-5, 20)\n",
        "    plt.show()\n",
        "except FileNotFoundError:\n",
        "    print(\"El archivo 'stars.dat' no se encuentra. Verifique que el archivo esté en la misma carpeta.\")\n"
      ]
    }
  ]
}