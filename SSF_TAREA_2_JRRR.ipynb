{
  "nbformat": 4,
  "nbformat_minor": 0,
  "metadata": {
    "colab": {
      "provenance": [],
      "include_colab_link": true
    },
    "kernelspec": {
      "name": "python3",
      "display_name": "Python 3"
    },
    "language_info": {
      "name": "python"
    }
  },
  "cells": [
    {
      "cell_type": "markdown",
      "metadata": {
        "id": "view-in-github",
        "colab_type": "text"
      },
      "source": [
        "<a href=\"https://colab.research.google.com/github/luisangel22091102/TAREAS-DE-METODOS-DE-SIMULACION/blob/main/SSF_TAREA_2_JRRR.ipynb\" target=\"_parent\"><img src=\"https://colab.research.google.com/assets/colab-badge.svg\" alt=\"Open In Colab\"/></a>"
      ]
    },
    {
      "cell_type": "markdown",
      "source": [
        "# **Evaluación de Cos(x) | Reyes Ramirez Jose Rodolfo 202155034**\n",
        "\n",
        "---\n",
        "**Formalismo**\n",
        "\n",
        "Claro, la serie directa representa un polinomio de manera convencional, expresando cada término individual del polinomio como una potencia de $(x)$ multiplicada por su respectivo coeficiente. Por ejemplo, para un polinomio $(P(x))$, la serie directa se vería así:\n",
        "\n",
        "$[P(x) = a_nx^n + a_{n-1}x^{n-1} + \\ldots + a_1x + a_0]$\n",
        "\n",
        "En cambio, la computación parcial, basada en la regla de Horner, reorganiza el polinomio de una manera que facilita su evaluación eficiente. Esta técnica presenta el polinomio de forma diferente, empleando una secuencia de operaciones anidadas de suma y multiplicación. La expresión se parece a esta:\n",
        "\n",
        "$[P(x) = ((\\ldots((a_nx + a_{n-1})x + a_{n-2})x + \\ldots + a_1)x + a_0)]$\n",
        "\n",
        "La diferencia fundamental radica en cómo se presentan las operaciones matemáticas. Mientras que la serie directa muestra el polinomio de una manera más clara y directa, la computación parcial a través de la regla de Horner está diseñada para mejorar la eficiencia en el cálculo del polinomio, reduciendo el número total de operaciones necesarias para evaluarlo en un valor específico de $(x)$.\n",
        "\n",
        "Link del código:\n",
        "\n",
        "https://colab.research.google.com/drive/1w-jfpG4d_j4tBHfM-6xd62XS-o4jwSmm?usp=sharing\n",
        "\n"
      ],
      "metadata": {
        "id": "fnFD1OJdcdfW"
      }
    },
    {
      "cell_type": "markdown",
      "source": [
        "\n",
        "\n",
        "*   Actividad (a): implementar la evaluación de cos$(x)$ mediante el cálculo de la serie directa\n",
        "\n"
      ],
      "metadata": {
        "id": "PFuAWPqGeHs1"
      }
    },
    {
      "cell_type": "code",
      "source": [
        "import math as mt\n",
        "\n",
        "def cos(x, it):\n",
        "  aproximación = 0\n",
        "  for i in range(it):\n",
        "    term = ((-1)**i / mt.factorial(2 * i)) * x**(2 * i)\n",
        "    aproximación = aproximación + term\n",
        "  return aproximación, i\n",
        "# Comprobación de la presición del algoritmo:\n",
        "print(cos(5, 30))\n",
        "print(mt.cos(5))"
      ],
      "metadata": {
        "colab": {
          "base_uri": "https://localhost:8080/"
        },
        "id": "uj8GDEvwwVsp",
        "outputId": "e7304881-c416-475e-9119-9b71da958cba"
      },
      "execution_count": null,
      "outputs": [
        {
          "output_type": "stream",
          "name": "stdout",
          "text": [
            "(0.28366218546322375, 29)\n",
            "0.28366218546322625\n"
          ]
        }
      ]
    },
    {
      "cell_type": "markdown",
      "source": [
        "\n",
        "\n",
        "*   Actividad (b): implementar la evaluación de cos$(x)$ mediante el cálculo de la computación parcial.\n",
        "\n"
      ],
      "metadata": {
        "id": "brFwabdlw5H8"
      }
    },
    {
      "cell_type": "code",
      "source": [
        "import math as mt\n",
        "\n",
        "def cos2(x, epsilon = 1e-15, maximo_termino = 300):\n",
        "  aproximación = 0\n",
        "  i = 0\n",
        "  term = float('inf')\n",
        "  while abs(term) > epsilon and i < maximo_termino:\n",
        "      term = ((-1)**i / mt.factorial(2 * i)) * x**(2 * i)\n",
        "      aproximación = aproximación + term\n",
        "      i = i + 1\n",
        "  return aproximación, i\n",
        "# Comprobación de la presición del algoritmo:\n",
        "print(cos2(10))\n",
        "print(mt.cos(10))"
      ],
      "metadata": {
        "colab": {
          "base_uri": "https://localhost:8080/"
        },
        "id": "cVI1psDdxgP5",
        "outputId": "d52e7531-7971-4428-9fcc-f9f2b1fd7996"
      },
      "execution_count": null,
      "outputs": [
        {
          "output_type": "stream",
          "name": "stdout",
          "text": [
            "(-0.8390715290756898, 27)\n",
            "-0.8390715290764524\n"
          ]
        }
      ]
    },
    {
      "cell_type": "markdown",
      "source": [
        "\n",
        "**Convergencia de las evaluaciones**\n",
        "\n",
        "\n",
        "\n",
        "* Para inciso (a):  valores pequeños de $x$.\n",
        "\n",
        "---\n",
        "\n",
        "\n",
        "\n",
        "\n",
        "\n",
        "\n"
      ],
      "metadata": {
        "id": "q0ALA9vEyaI6"
      }
    },
    {
      "cell_type": "code",
      "source": [
        "import numpy as np\n",
        "import math as mt\n",
        "data = np.linspace(-5*np.pi, 5*np.pi, 26, endpoint = True)\n",
        "print('a) Funcion cos')\n",
        "print(\"\\t x \\t\\t Iteraciones \\t\\t Suma \\t\\t\\t |suma-cos(x)|/cos(x)\")\n",
        "for x in data:\n",
        "    resultado, iteracion = cos(x, 40)\n",
        "    error = abs(resultado - mt.cos(x))/mt.cos(x)\n",
        "    print(f'{x:f} \\t\\t {iteracion} \\t\\t {resultado} \\t\\t {error}')\n",
        "print()\n",
        "print('b) Funcion cos2')\n",
        "print(\"\\t x \\t\\t Iteraciones \\t\\t Suma \\t\\t\\t |suma-cos(x)|/cos(x)\")\n",
        "for x in data:\n",
        "    resultado, iteracion = cos2(x)\n",
        "    error = abs(resultado - mt.cos(x))/mt.cos(x)\n",
        "    print(f'{x:f} \\t\\t {iteracion} \\t\\t {resultado} \\t\\t {error}')"
      ],
      "metadata": {
        "colab": {
          "base_uri": "https://localhost:8080/"
        },
        "id": "fAU8CBlxyzVK",
        "outputId": "2b41b557-6882-4760-c609-0974ccfd4745"
      },
      "execution_count": null,
      "outputs": [
        {
          "output_type": "stream",
          "name": "stdout",
          "text": [
            "a) Funcion cos\n",
            "\t x \t\t Iteraciones \t\t Suma \t\t\t |suma-cos(x)|/cos(x)\n",
            "-15.707963 \t\t 39 \t\t -0.9999999999832766 \t\t -1.6723400442231195e-11\n",
            "-14.451326 \t\t 39 \t\t -0.3090169943355007 \t\t -1.2765048289194875e-10\n",
            "-13.194689 \t\t 39 \t\t 0.8090169943787205 \t\t 4.663524908396537e-12\n",
            "-11.938052 \t\t 39 \t\t 0.8090169943749397 \t\t 9.194484561768183e-15\n",
            "-10.681415 \t\t 39 \t\t -0.3090169943746349 \t\t -1.012618610583343e-12\n",
            "-9.424778 \t\t 39 \t\t -0.9999999999998144 \t\t -1.8562928971732617e-13\n",
            "-8.168141 \t\t 39 \t\t -0.30901699437490965 \t\t -1.212555547531946e-13\n",
            "-6.911504 \t\t 39 \t\t 0.8090169943749583 \t\t 1.3311417947634527e-14\n",
            "-5.654867 \t\t 39 \t\t 0.8090169943749473 \t\t 0.0\n",
            "-4.398230 \t\t 39 \t\t -0.3090169943749474 \t\t -5.389135766808642e-16\n",
            "-3.141593 \t\t 39 \t\t -1.000000000000001 \t\t -1.1102230246251565e-15\n",
            "-1.884956 \t\t 39 \t\t -0.3090169943749474 \t\t -1.7963785889362153e-16\n",
            "-0.628319 \t\t 39 \t\t 0.8090169943749475 \t\t 0.0\n",
            "0.628319 \t\t 39 \t\t 0.8090169943749475 \t\t 0.0\n",
            "1.884956 \t\t 39 \t\t -0.3090169943749474 \t\t -1.7963785889362153e-16\n",
            "3.141593 \t\t 39 \t\t -1.000000000000001 \t\t -1.1102230246251565e-15\n",
            "4.398230 \t\t 39 \t\t -0.3090169943749474 \t\t -5.389135766808642e-16\n",
            "5.654867 \t\t 39 \t\t 0.8090169943749473 \t\t 0.0\n",
            "6.911504 \t\t 39 \t\t 0.8090169943749583 \t\t 1.3311417947634527e-14\n",
            "8.168141 \t\t 39 \t\t -0.30901699437490965 \t\t -1.212555547531946e-13\n",
            "9.424778 \t\t 39 \t\t -0.9999999999998144 \t\t -1.8562928971732617e-13\n",
            "10.681415 \t\t 39 \t\t -0.3090169943746349 \t\t -1.012618610583343e-12\n",
            "11.938052 \t\t 39 \t\t 0.8090169943749397 \t\t 9.194484561768183e-15\n",
            "13.194689 \t\t 39 \t\t 0.8090169943787205 \t\t 4.663524908396537e-12\n",
            "14.451326 \t\t 39 \t\t -0.3090169943355007 \t\t -1.2765048289194875e-10\n",
            "15.707963 \t\t 39 \t\t -0.9999999999832766 \t\t -1.6723400442231195e-11\n",
            "\n",
            "b) Funcion cos2\n",
            "\t x \t\t Iteraciones \t\t Suma \t\t\t |suma-cos(x)|/cos(x)\n",
            "-15.707963 \t\t 35 \t\t -0.9999999999832766 \t\t -1.6723400442231195e-11\n",
            "-14.451326 \t\t 34 \t\t -0.3090169943355007 \t\t -1.2765048289194875e-10\n",
            "-13.194689 \t\t 32 \t\t 0.8090169943787205 \t\t 4.663524908396537e-12\n",
            "-11.938052 \t\t 30 \t\t 0.8090169943749397 \t\t 9.194484561768183e-15\n",
            "-10.681415 \t\t 28 \t\t -0.3090169943746349 \t\t -1.012618610583343e-12\n",
            "-9.424778 \t\t 26 \t\t -0.9999999999998144 \t\t -1.8562928971732617e-13\n",
            "-8.168141 \t\t 24 \t\t -0.30901699437490965 \t\t -1.212555547531946e-13\n",
            "-6.911504 \t\t 22 \t\t 0.8090169943749583 \t\t 1.3311417947634527e-14\n",
            "-5.654867 \t\t 20 \t\t 0.8090169943749473 \t\t 0.0\n",
            "-4.398230 \t\t 18 \t\t -0.3090169943749474 \t\t -5.389135766808642e-16\n",
            "-3.141593 \t\t 15 \t\t -1.000000000000001 \t\t -1.1102230246251565e-15\n",
            "-1.884956 \t\t 13 \t\t -0.3090169943749474 \t\t -1.7963785889362153e-16\n",
            "-0.628319 \t\t 9 \t\t 0.8090169943749475 \t\t 0.0\n",
            "0.628319 \t\t 9 \t\t 0.8090169943749475 \t\t 0.0\n",
            "1.884956 \t\t 13 \t\t -0.3090169943749474 \t\t -1.7963785889362153e-16\n",
            "3.141593 \t\t 15 \t\t -1.000000000000001 \t\t -1.1102230246251565e-15\n",
            "4.398230 \t\t 18 \t\t -0.3090169943749474 \t\t -5.389135766808642e-16\n",
            "5.654867 \t\t 20 \t\t 0.8090169943749473 \t\t 0.0\n",
            "6.911504 \t\t 22 \t\t 0.8090169943749583 \t\t 1.3311417947634527e-14\n",
            "8.168141 \t\t 24 \t\t -0.30901699437490965 \t\t -1.212555547531946e-13\n",
            "9.424778 \t\t 26 \t\t -0.9999999999998144 \t\t -1.8562928971732617e-13\n",
            "10.681415 \t\t 28 \t\t -0.3090169943746349 \t\t -1.012618610583343e-12\n",
            "11.938052 \t\t 30 \t\t 0.8090169943749397 \t\t 9.194484561768183e-15\n",
            "13.194689 \t\t 32 \t\t 0.8090169943787205 \t\t 4.663524908396537e-12\n",
            "14.451326 \t\t 34 \t\t -0.3090169943355007 \t\t -1.2765048289194875e-10\n",
            "15.707963 \t\t 35 \t\t -0.9999999999832766 \t\t -1.6723400442231195e-11\n"
          ]
        }
      ]
    },
    {
      "cell_type": "markdown",
      "source": [
        "\n",
        "\n",
        "*   Para inciso (b): valores grandes de $x$.\n",
        "\n",
        "---\n",
        "\n",
        "\n",
        "\n"
      ],
      "metadata": {
        "id": "gULTJqILz4X7"
      }
    },
    {
      "cell_type": "code",
      "source": [
        "import numpy as np\n",
        "import math as mt\n",
        "data = np.linspace(-5*np.pi, 5*np.pi, 26, endpoint = True)\n",
        "print('a) Funcion cos')\n",
        "print(\"\\t x \\t\\t Iteraciones \\t\\t Suma \\t\\t\\t |suma-cos(x)|/cos(x)\")\n",
        "for x in data:\n",
        "    resultado, iteracion = cos(x, 200)\n",
        "    error = abs(resultado - mt.cos(x))/mt.cos(x)\n",
        "    print(f'{x:f} \\t\\t {iteracion} \\t\\t {resultado} \\t\\t {error}')\n",
        "print()\n",
        "print('b) Funcion cos2')\n",
        "print(\"\\t x \\t\\t Iteraciones \\t\\t Suma \\t\\t\\t |suma-cos(x)|/cos(x)\")\n",
        "for x in data:\n",
        "    resultado, iteracion = cos2(x)\n",
        "    error = abs(resultado - mt.cos(x))/mt.cos(x)\n",
        "    print(f'{x:f} \\t\\t {iteracion} \\t\\t {resultado} \\t\\t {error}')"
      ],
      "metadata": {
        "colab": {
          "base_uri": "https://localhost:8080/"
        },
        "id": "QenHaDeM0N-a",
        "outputId": "6029792c-d679-4843-85a2-91ff26d1ae14"
      },
      "execution_count": null,
      "outputs": [
        {
          "output_type": "stream",
          "name": "stdout",
          "text": [
            "a) Funcion cos\n",
            "\t x \t\t Iteraciones \t\t Suma \t\t\t |suma-cos(x)|/cos(x)\n",
            "-15.707963 \t\t 199 \t\t nan \t\t nan\n",
            "-14.451326 \t\t 199 \t\t nan \t\t nan\n",
            "-13.194689 \t\t 199 \t\t nan \t\t nan\n",
            "-11.938052 \t\t 199 \t\t nan \t\t nan\n",
            "-10.681415 \t\t 199 \t\t nan \t\t nan\n",
            "-9.424778 \t\t 199 \t\t nan \t\t nan\n",
            "-8.168141 \t\t 199 \t\t nan \t\t nan\n",
            "-6.911504 \t\t 199 \t\t nan \t\t nan\n",
            "-5.654867 \t\t 199 \t\t 0.8090169943749473 \t\t 0.0\n",
            "-4.398230 \t\t 199 \t\t -0.3090169943749474 \t\t -5.389135766808642e-16\n",
            "-3.141593 \t\t 199 \t\t -1.000000000000001 \t\t -1.1102230246251565e-15\n",
            "-1.884956 \t\t 199 \t\t -0.3090169943749474 \t\t -1.7963785889362153e-16\n",
            "-0.628319 \t\t 199 \t\t 0.8090169943749475 \t\t 0.0\n",
            "0.628319 \t\t 199 \t\t 0.8090169943749475 \t\t 0.0\n",
            "1.884956 \t\t 199 \t\t -0.3090169943749474 \t\t -1.7963785889362153e-16\n",
            "3.141593 \t\t 199 \t\t -1.000000000000001 \t\t -1.1102230246251565e-15\n",
            "4.398230 \t\t 199 \t\t -0.3090169943749474 \t\t -5.389135766808642e-16\n",
            "5.654867 \t\t 199 \t\t 0.8090169943749473 \t\t 0.0\n",
            "6.911504 \t\t 199 \t\t nan \t\t nan\n",
            "8.168141 \t\t 199 \t\t nan \t\t nan\n",
            "9.424778 \t\t 199 \t\t nan \t\t nan\n",
            "10.681415 \t\t 199 \t\t nan \t\t nan\n",
            "11.938052 \t\t 199 \t\t nan \t\t nan\n",
            "13.194689 \t\t 199 \t\t nan \t\t nan\n",
            "14.451326 \t\t 199 \t\t nan \t\t nan\n",
            "15.707963 \t\t 199 \t\t nan \t\t nan\n",
            "\n",
            "b) Funcion cos2\n",
            "\t x \t\t Iteraciones \t\t Suma \t\t\t |suma-cos(x)|/cos(x)\n",
            "-15.707963 \t\t 35 \t\t -0.9999999999832766 \t\t -1.6723400442231195e-11\n",
            "-14.451326 \t\t 34 \t\t -0.3090169943355007 \t\t -1.2765048289194875e-10\n",
            "-13.194689 \t\t 32 \t\t 0.8090169943787205 \t\t 4.663524908396537e-12\n",
            "-11.938052 \t\t 30 \t\t 0.8090169943749397 \t\t 9.194484561768183e-15\n",
            "-10.681415 \t\t 28 \t\t -0.3090169943746349 \t\t -1.012618610583343e-12\n",
            "-9.424778 \t\t 26 \t\t -0.9999999999998144 \t\t -1.8562928971732617e-13\n",
            "-8.168141 \t\t 24 \t\t -0.30901699437490965 \t\t -1.212555547531946e-13\n",
            "-6.911504 \t\t 22 \t\t 0.8090169943749583 \t\t 1.3311417947634527e-14\n",
            "-5.654867 \t\t 20 \t\t 0.8090169943749473 \t\t 0.0\n",
            "-4.398230 \t\t 18 \t\t -0.3090169943749474 \t\t -5.389135766808642e-16\n",
            "-3.141593 \t\t 15 \t\t -1.000000000000001 \t\t -1.1102230246251565e-15\n",
            "-1.884956 \t\t 13 \t\t -0.3090169943749474 \t\t -1.7963785889362153e-16\n",
            "-0.628319 \t\t 9 \t\t 0.8090169943749475 \t\t 0.0\n",
            "0.628319 \t\t 9 \t\t 0.8090169943749475 \t\t 0.0\n",
            "1.884956 \t\t 13 \t\t -0.3090169943749474 \t\t -1.7963785889362153e-16\n",
            "3.141593 \t\t 15 \t\t -1.000000000000001 \t\t -1.1102230246251565e-15\n",
            "4.398230 \t\t 18 \t\t -0.3090169943749474 \t\t -5.389135766808642e-16\n",
            "5.654867 \t\t 20 \t\t 0.8090169943749473 \t\t 0.0\n",
            "6.911504 \t\t 22 \t\t 0.8090169943749583 \t\t 1.3311417947634527e-14\n",
            "8.168141 \t\t 24 \t\t -0.30901699437490965 \t\t -1.212555547531946e-13\n",
            "9.424778 \t\t 26 \t\t -0.9999999999998144 \t\t -1.8562928971732617e-13\n",
            "10.681415 \t\t 28 \t\t -0.3090169943746349 \t\t -1.012618610583343e-12\n",
            "11.938052 \t\t 30 \t\t 0.8090169943749397 \t\t 9.194484561768183e-15\n",
            "13.194689 \t\t 32 \t\t 0.8090169943787205 \t\t 4.663524908396537e-12\n",
            "14.451326 \t\t 34 \t\t -0.3090169943355007 \t\t -1.2765048289194875e-10\n",
            "15.707963 \t\t 35 \t\t -0.9999999999832766 \t\t -1.6723400442231195e-11\n"
          ]
        },
        {
          "output_type": "stream",
          "name": "stderr",
          "text": [
            "<ipython-input-3-f59ae9f0cb3c>:6: RuntimeWarning: overflow encountered in double_scalars\n",
            "  term = ((-1)**i / mt.factorial(2 * i)) * x**(2 * i)\n",
            "<ipython-input-3-f59ae9f0cb3c>:6: RuntimeWarning: invalid value encountered in double_scalars\n",
            "  term = ((-1)**i / mt.factorial(2 * i)) * x**(2 * i)\n"
          ]
        }
      ]
    },
    {
      "cell_type": "markdown",
      "source": [
        "**Análisis crítico**\n",
        "\n",
        "Observé que la serie directa puede ser bastante útil para calcular la función $(cos(x))$ en valores pequeños de $(x)$, ya que converge rápidamente en esos casos, proporcionando resultados precisos con menos términos en la serie. Sin embargo, para valores grandes de $(x)$, la serie directa tiende a divergir, lo que lleva a resultados menos precisos y una convergencia más lenta.\n",
        "\n",
        "Por otro lado, la computación parcial utilizando la regla de Horner ofrece una mejora en la eficiencia computacional al evaluar la serie de Maclaurin para $(cos(x))$. Para valores pequeños de $(x)$, esta técnica muestra una convergencia más rápida y resultados precisos con menos operaciones. Sin embargo, para valores grandes de $(x)$, aunque mejora la eficiencia en la evaluación, la divergencia de la serie de Maclaurin para $(cos(x))$ persiste.\n"
      ],
      "metadata": {
        "id": "VxRwH1JQ5Qo6"
      }
    }
  ]
}