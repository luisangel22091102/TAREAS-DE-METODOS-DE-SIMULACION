{
  "nbformat": 4,
  "nbformat_minor": 0,
  "metadata": {
    "colab": {
      "provenance": [],
      "include_colab_link": true
    },
    "kernelspec": {
      "name": "python3",
      "display_name": "Python 3"
    },
    "language_info": {
      "name": "python"
    }
  },
  "cells": [
    {
      "cell_type": "markdown",
      "metadata": {
        "id": "view-in-github",
        "colab_type": "text"
      },
      "source": [
        "<a href=\"https://colab.research.google.com/github/luisangel22091102/TAREAS-DE-METODOS-DE-SIMULACION/blob/main/TAREA_3.ipynb\" target=\"_parent\"><img src=\"https://colab.research.google.com/assets/colab-badge.svg\" alt=\"Open In Colab\"/></a>"
      ]
    },
    {
      "cell_type": "markdown",
      "source": [
        "#  **Problema 1:**"
      ],
      "metadata": {
        "id": "xZBJ8T7W_lhy"
      }
    },
    {
      "cell_type": "code",
      "source": [
        "import numpy as np\n",
        "import matplotlib.pyplot as plt\n",
        "import math\n",
        "x = np.array(range(-15, 15))*0.1\n",
        "y= np.zeros(len(x))\n",
        "for i in range(len(x)):\n",
        "    y[i]=(1/((math.sqrt(math.pi*2))*(math.exp((x[i]**2)/2))))\n",
        "plt.plot(x,y)\n",
        "plt.show()"
      ],
      "metadata": {
        "colab": {
          "base_uri": "https://localhost:8080/",
          "height": 430
        },
        "id": "LndgOsUi_0Zy",
        "outputId": "82820b58-9eec-4966-8047-0eb16660db9d"
      },
      "execution_count": null,
      "outputs": [
        {
          "output_type": "display_data",
          "data": {
            "text/plain": [
              "<Figure size 640x480 with 1 Axes>"
            ],
            "image/png": "[encoded data removed]"
          },
          "metadata": {}
        }
      ]
    },
    {
      "cell_type": "markdown",
      "source": [
        "**Regla del trapecio**"
      ],
      "metadata": {
        "id": "WMbugGfpBnn4"
      }
    },
    {
      "cell_type": "code",
      "source": [
        "# 6 Intervalos\n",
        "def f(x):\n",
        "    return (1/((math.sqrt(math.pi*2))*(math.exp((x**2)/2))))\n",
        "n = 6\n",
        "a = -1\n",
        "b = 1\n",
        "dx = (b-a)/n\n",
        "suma = 0\n",
        "for i in range(n):\n",
        "    area = (f(a) + f(a+dx))*dx/2\n",
        "    suma = suma + area\n",
        "    a = a + dx\n",
        "print (\"el area es\", suma)"
      ],
      "metadata": {
        "colab": {
          "base_uri": "https://localhost:8080/"
        },
        "id": "u8_AHiAQA_Wm",
        "outputId": "be47f5a7-a8f6-4750-88a7-cdd1d6ea0bbe"
      },
      "execution_count": null,
      "outputs": [
        {
          "output_type": "stream",
          "name": "stdout",
          "text": [
            "el area es 0.6781918237837556\n"
          ]
        }
      ]
    },
    {
      "cell_type": "code",
      "source": [
        "# 15 Intervalos\n",
        "def f(x):\n",
        "    return (1/((math.sqrt(math.pi*2))*(math.exp((x**2)/2))))\n",
        "n = 15\n",
        "a = -1\n",
        "b = 1\n",
        "dx = (b-a)/n\n",
        "suma = 0\n",
        "for i in range(n):\n",
        "    area = (f(a) + f(a+dx))*dx/2\n",
        "    suma = suma + area\n",
        "    a = a + dx\n",
        "print (\"el area es\", suma)"
      ],
      "metadata": {
        "colab": {
          "base_uri": "https://localhost:8080/"
        },
        "id": "13liCa5zBLHM",
        "outputId": "17c50614-6ea8-4a89-9d35-11cf68739d59"
      },
      "execution_count": null,
      "outputs": [
        {
          "output_type": "stream",
          "name": "stdout",
          "text": [
            "el area es 0.6819721164424768\n"
          ]
        }
      ]
    },
    {
      "cell_type": "markdown",
      "source": [
        "**Regla de Simpson**\n"
      ],
      "metadata": {
        "id": "DzMidT6DBxrM"
      }
    },
    {
      "cell_type": "code",
      "source": [
        "# 6 Intervalos\n",
        "def f(x):\n",
        "    return (1/((math.sqrt(math.pi*2))*(math.exp((x**2)/2))))\n",
        "def simpson (f, a, b):\n",
        "    m = (a + b)/2\n",
        "    integral = (b-a)/6*(f(a)+4 * f(m) + f(b))\n",
        "    return integral\n",
        "a = -1\n",
        "b = 1\n",
        "n = 6\n",
        "h= (b-a)/n\n",
        "suma = 0\n",
        "for i in range(n):\n",
        "    b = a + h\n",
        "    area = simpson (f, a, b)\n",
        "    suma = suma + area\n",
        "    a = b\n",
        "print (\"el area es\", suma)"
      ],
      "metadata": {
        "colab": {
          "base_uri": "https://localhost:8080/"
        },
        "id": "B1URSSl0B-ZC",
        "outputId": "aeda4537-7870-462c-efe4-69f4688e3811"
      },
      "execution_count": null,
      "outputs": [
        {
          "output_type": "stream",
          "name": "stdout",
          "text": [
            "el area es 0.6826936827174928\n"
          ]
        }
      ]
    },
    {
      "cell_type": "code",
      "source": [
        "# 15 Intervalos\n",
        "def f(x):\n",
        "    return (1/((math.sqrt(math.pi*2))*(math.exp((x**2)/2))))\n",
        "def simpson (f, a, b):\n",
        "    m = (a + b)/2\n",
        "    integral = (b-a)/6*(f(a)+4 * f(m) + f(b))\n",
        "    return integral\n",
        "a = -1\n",
        "b = 1\n",
        "n = 15\n",
        "h= (b-a)/n\n",
        "suma = 0\n",
        "for i in range(n):\n",
        "    b = a + h\n",
        "    area = simpson (f, a, b)\n",
        "    suma = suma + area\n",
        "    a = b\n",
        "print (\"el area es\", suma)"
      ],
      "metadata": {
        "colab": {
          "base_uri": "https://localhost:8080/"
        },
        "id": "TViLqN1QCR7-",
        "outputId": "271f7b74-5c3f-49c6-f9b0-84476637cd9b"
      },
      "execution_count": null,
      "outputs": [
        {
          "output_type": "stream",
          "name": "stdout",
          "text": [
            "el area es 0.6826895985208019\n"
          ]
        }
      ]
    },
    {
      "cell_type": "markdown",
      "source": [
        "# **Problema 2:**"
      ],
      "metadata": {
        "id": "udXj5xqtCsfm"
      }
    },
    {
      "cell_type": "code",
      "source": [
        "import numpy as np\n",
        "import matplotlib.pyplot as plt\n",
        "import math\n",
        "x = np.array(range(0, 60))*0.05\n",
        "y= np.zeros(len(x))\n",
        "for i in range(len(x)):\n",
        "    y[i]=((math.exp(x[i])**2)*(math.sin(x[i])))/(1 + (x[i])**2)\n",
        "plt.plot(x,y)\n",
        "plt.show()"
      ],
      "metadata": {
        "colab": {
          "base_uri": "https://localhost:8080/",
          "height": 430
        },
        "id": "LytFaZBDC05b",
        "outputId": "f7dc2c3f-3a83-4adc-a56c-7aa1b1d51708"
      },
      "execution_count": null,
      "outputs": [
        {
          "output_type": "display_data",
          "data": {
            "text/plain": [
              "<Figure size 640x480 with 1 Axes>"
            ],
            "image/png": "[encoded data removed]"
          },
          "metadata": {}
        }
      ]
    },
    {
      "cell_type": "markdown",
      "source": [
        "**Regla del Trapecio**"
      ],
      "metadata": {
        "id": "Kd-mjQ4KC_lT"
      }
    },
    {
      "cell_type": "code",
      "source": [
        "# 6 intervalos\n",
        "def f(x):\n",
        "    return ((math.exp(x)**2)*(math.sin(x)))/(1 + (x)**2)\n",
        "n = 6\n",
        "a = 0\n",
        "b = 3\n",
        "dx = (b-a)/n\n",
        "suma = 0\n",
        "for i in range(n):\n",
        "    area = (f(a) + f(a+dx))*dx/2\n",
        "    suma = suma + area\n",
        "    a = a + dx\n",
        "print (\"el area es\", suma)"
      ],
      "metadata": {
        "colab": {
          "base_uri": "https://localhost:8080/"
        },
        "id": "5ivtTlmwC7Hh",
        "outputId": "d9280759-0205-409c-9325-c9c20ec9d4f2"
      },
      "execution_count": null,
      "outputs": [
        {
          "output_type": "stream",
          "name": "stdout",
          "text": [
            "el area es 17.671535041777297\n"
          ]
        }
      ]
    },
    {
      "cell_type": "code",
      "source": [
        "#15 intervalos\n",
        "def f(x):\n",
        "    return ((math.exp(x)**2)*(math.sin(x)))/(1 + (x)**2)\n",
        "n = 15\n",
        "a = 0\n",
        "b = 3\n",
        "dx = (b-a)/n\n",
        "suma = 0\n",
        "for i in range(n):\n",
        "    area = (f(a) + f(a+dx))*dx/2\n",
        "    suma = suma + area\n",
        "    a = a + dx\n",
        "print (\"el area es\", suma)"
      ],
      "metadata": {
        "colab": {
          "base_uri": "https://localhost:8080/"
        },
        "id": "vUTU6wWJDWiO",
        "outputId": "c5b3c5be-e22d-423c-c2f0-a9fb9292bcd7"
      },
      "execution_count": null,
      "outputs": [
        {
          "output_type": "stream",
          "name": "stdout",
          "text": [
            "el area es 18.229710275629373\n"
          ]
        }
      ]
    },
    {
      "cell_type": "code",
      "source": [
        "#20 intervalos\n",
        "def f(x):\n",
        "    return ((math.exp(x)**2)*(math.sin(x)))/(1 + (x)**2)\n",
        "n = 20\n",
        "a = 0\n",
        "b = 3\n",
        "dx = (b-a)/n\n",
        "suma = 0\n",
        "for i in range(n):\n",
        "    area = (f(a) + f(a+dx))*dx/2\n",
        "    suma = suma + area\n",
        "    a = a + dx\n",
        "print (\"el area es\", suma)"
      ],
      "metadata": {
        "colab": {
          "base_uri": "https://localhost:8080/"
        },
        "id": "gwLVGXMzDuCT",
        "outputId": "71e78194-17e8-49c8-8917-3691665dcd13"
      },
      "execution_count": null,
      "outputs": [
        {
          "output_type": "stream",
          "name": "stdout",
          "text": [
            "el area es 18.2774499612085\n"
          ]
        }
      ]
    },
    {
      "cell_type": "markdown",
      "source": [
        "**Regla de Simpson**"
      ],
      "metadata": {
        "id": "PrCb0Nu3D--e"
      }
    },
    {
      "cell_type": "code",
      "source": [
        "# 6 Intervalos\n",
        "def f(x):\n",
        "    return ((math.exp(x)**2)*(math.sin(x)))/(1 + (x)**2)\n",
        "def simpson (f, a, b):\n",
        "    m = (a + b)/2\n",
        "    integral = (b-a)/6*(f(a)+4 * f(m) + f(b))\n",
        "    return integral\n",
        "a = 0\n",
        "b = 3\n",
        "n = 6\n",
        "h= (b-a)/n\n",
        "suma = 0\n",
        "for i in range(n):\n",
        "    b = a + h\n",
        "    area = simpson (f, a, b)\n",
        "    suma = suma + area\n",
        "    a = b\n",
        "print (\"el area es\", suma)"
      ],
      "metadata": {
        "colab": {
          "base_uri": "https://localhost:8080/"
        },
        "id": "dpGhvna5EGuD",
        "outputId": "0cbcbb40-0d40-4b1d-eec5-1b0e24cee922"
      },
      "execution_count": null,
      "outputs": [
        {
          "output_type": "stream",
          "name": "stdout",
          "text": [
            "el area es 18.334300912085787\n"
          ]
        }
      ]
    },
    {
      "cell_type": "code",
      "source": [
        "# 15 Intervalos\n",
        "def f(x):\n",
        "    return ((math.exp(x)**2)*(math.sin(x)))/(1 + (x)**2)\n",
        "def simpson (f, a, b):\n",
        "    m = (a + b)/2\n",
        "    integral = (b-a)/6*(f(a)+4 * f(m) + f(b))\n",
        "    return integral\n",
        "a = 0\n",
        "b = 3\n",
        "n = 15\n",
        "h= (b-a)/n\n",
        "suma = 0\n",
        "for i in range(n):\n",
        "    b = a + h\n",
        "    area = simpson (f, a, b)\n",
        "    suma = suma + area\n",
        "    a = b\n",
        "print (\"el area es\", suma)"
      ],
      "metadata": {
        "colab": {
          "base_uri": "https://localhost:8080/"
        },
        "id": "huexcuYdEaZ-",
        "outputId": "28f272b6-7c7d-484b-809f-b7c198e41394"
      },
      "execution_count": null,
      "outputs": [
        {
          "output_type": "stream",
          "name": "stdout",
          "text": [
            "el area es 18.338984697036814\n"
          ]
        }
      ]
    },
    {
      "cell_type": "code",
      "source": [
        "#20 intervalos\n",
        "def f(x):\n",
        "    return ((math.exp(x)**2)*(math.sin(x)))/(1 + (x)**2)\n",
        "n = 20\n",
        "a = 0\n",
        "b = 3\n",
        "dx = (b-a)/n\n",
        "suma = 0\n",
        "for i in range(n):\n",
        "    area = (f(a) + f(a+dx))*dx/2\n",
        "    suma = suma + area\n",
        "    a = a + dx\n",
        "print (\"el area es\", suma)"
      ],
      "metadata": {
        "colab": {
          "base_uri": "https://localhost:8080/"
        },
        "id": "xXdzuE_rEmKp",
        "outputId": "520fdf66-0448-4deb-89ae-1d485cd7b1c8"
      },
      "execution_count": null,
      "outputs": [
        {
          "output_type": "stream",
          "name": "stdout",
          "text": [
            "el area es 18.2774499612085\n"
          ]
        }
      ]
    },
    {
      "cell_type": "markdown",
      "source": [
        "# **Problema 3: Problema 2 en [-2,0]**"
      ],
      "metadata": {
        "id": "_TBwbOc7FDss"
      }
    },
    {
      "cell_type": "code",
      "source": [
        "import numpy as np\n",
        "import matplotlib.pyplot as plt\n",
        "import math\n",
        "x = np.array(range(-40, 0))*0.05\n",
        "y= np.zeros(len(x))\n",
        "for i in range(len(x)):\n",
        "    y[i]=((math.exp(x[i])**2)*(math.sin(x[i])))/(1 + (x[i])**2)\n",
        "plt.plot(x,y)\n",
        "plt.show()"
      ],
      "metadata": {
        "colab": {
          "base_uri": "https://localhost:8080/",
          "height": 430
        },
        "id": "EC3amiNlFSpk",
        "outputId": "83b931ca-c993-46d8-bc6c-3597e24f3c2e"
      },
      "execution_count": null,
      "outputs": [
        {
          "output_type": "display_data",
          "data": {
            "text/plain": [
              "<Figure size 640x480 with 1 Axes>"
            ],
            "image/png": "[encoded data removed]"
          },
          "metadata": {}
        }
      ]
    },
    {
      "cell_type": "markdown",
      "source": [
        "**Regla del trapecio**"
      ],
      "metadata": {
        "id": "d3yB6wsvFY3N"
      }
    },
    {
      "cell_type": "code",
      "source": [
        "# 6 intervalos\n",
        "def f(x):\n",
        "    return ((math.exp(x)**2)*(math.sin(x)))/(1 + (x)**2)\n",
        "n = 6\n",
        "a = -2\n",
        "b = 0\n",
        "dx = (b-a)/n\n",
        "suma = 0\n",
        "for i in range(n):\n",
        "    area = (f(a) + f(a+dx))*dx/2\n",
        "    suma = suma + area\n",
        "    a = a + dx\n",
        "print (\"el area es\", suma)"
      ],
      "metadata": {
        "colab": {
          "base_uri": "https://localhost:8080/"
        },
        "id": "UfgBtPnoFgJh",
        "outputId": "faa606ff-48ee-44ac-f265-4f0509f93537"
      },
      "execution_count": null,
      "outputs": [
        {
          "output_type": "stream",
          "name": "stdout",
          "text": [
            "el area es -0.11878425729982989\n"
          ]
        }
      ]
    },
    {
      "cell_type": "code",
      "source": [
        "# 15 intervalos\n",
        "def f(x):\n",
        "    return ((math.exp(x)**2)*(math.sin(x)))/(1 + (x)**2)\n",
        "n = 15\n",
        "a = -2\n",
        "b = 0\n",
        "dx = (b-a)/n\n",
        "suma = 0\n",
        "for i in range(n):\n",
        "    area = (f(a) + f(a+dx))*dx/2\n",
        "    suma = suma + area\n",
        "    a = a + dx\n",
        "print (\"el area es\", suma)"
      ],
      "metadata": {
        "colab": {
          "base_uri": "https://localhost:8080/"
        },
        "id": "U4YCqWXXFtRo",
        "outputId": "57b18d6f-dc33-4f0a-9628-484383aabb51"
      },
      "execution_count": null,
      "outputs": [
        {
          "output_type": "stream",
          "name": "stdout",
          "text": [
            "el area es -0.12655835486610015\n"
          ]
        }
      ]
    },
    {
      "cell_type": "code",
      "source": [
        "# 20 intervalos\n",
        "def f(x):\n",
        "    return ((math.exp(x)**2)*(math.sin(x)))/(1 + (x)**2)\n",
        "n = 20\n",
        "a = -2\n",
        "b = 0\n",
        "dx = (b-a)/n\n",
        "suma = 0\n",
        "for i in range(n):\n",
        "    area = (f(a) + f(a+dx))*dx/2\n",
        "    suma = suma + area\n",
        "    a = a + dx\n",
        "print (\"el area es\", suma)"
      ],
      "metadata": {
        "colab": {
          "base_uri": "https://localhost:8080/"
        },
        "id": "miGQe1VFF1Lq",
        "outputId": "816c7f69-6168-4206-e627-79990b256663"
      },
      "execution_count": null,
      "outputs": [
        {
          "output_type": "stream",
          "name": "stdout",
          "text": [
            "el area es -0.12721200023934953\n"
          ]
        }
      ]
    },
    {
      "cell_type": "markdown",
      "source": [
        "**Regla de Simpson**"
      ],
      "metadata": {
        "id": "OFdmWKgFF8AN"
      }
    },
    {
      "cell_type": "code",
      "source": [
        "#6 intervalos\n",
        "def f(x):\n",
        "    return ((math.exp(x)**2)*(math.sin(x)))/(1 + (x)**2)\n",
        "n = 6\n",
        "a = -2\n",
        "b = 0\n",
        "dx = (b-a)/n\n",
        "suma = 0\n",
        "for i in range(n):\n",
        "    area = (f(a) + f(a+dx))*dx/2\n",
        "    suma = suma + area\n",
        "    a = a + dx\n",
        "print (\"el area es\", suma)"
      ],
      "metadata": {
        "colab": {
          "base_uri": "https://localhost:8080/"
        },
        "id": "IFfWAFP9GBIH",
        "outputId": "5bbb5a88-1baf-4c08-bebe-6f0c694b6e68"
      },
      "execution_count": null,
      "outputs": [
        {
          "output_type": "stream",
          "name": "stdout",
          "text": [
            "el area es -0.11878425729982989\n"
          ]
        }
      ]
    },
    {
      "cell_type": "code",
      "source": [
        "# 15 intervalos\n",
        "def f(x):\n",
        "    return ((math.exp(x)**2)*(math.sin(x)))/(1 + (x)**2)\n",
        "n = 15\n",
        "a = -2\n",
        "b = 0\n",
        "dx = (b-a)/n\n",
        "suma = 0\n",
        "for i in range(n):\n",
        "    area = (f(a) + f(a+dx))*dx/2\n",
        "    suma = suma + area\n",
        "    a = a + dx\n",
        "print (\"el area es\", suma)"
      ],
      "metadata": {
        "colab": {
          "base_uri": "https://localhost:8080/"
        },
        "id": "6cctHNgMGSbG",
        "outputId": "29015bb2-615d-41e4-c7c3-f4ef3348bee5"
      },
      "execution_count": null,
      "outputs": [
        {
          "output_type": "stream",
          "name": "stdout",
          "text": [
            "el area es -0.12655835486610015\n"
          ]
        }
      ]
    },
    {
      "cell_type": "code",
      "source": [
        "# 20 intervalos\n",
        "def f(x):\n",
        "    return ((math.exp(x)**2)*(math.sin(x)))/(1 + (x)**2)\n",
        "n = 20\n",
        "a = -2\n",
        "b = 0\n",
        "dx = (b-a)/n\n",
        "suma = 0\n",
        "for i in range(n):\n",
        "    area = (f(a) + f(a+dx))*dx/2\n",
        "    suma = suma + area\n",
        "    a = a + dx\n",
        "print (\"el area es\", suma)"
      ],
      "metadata": {
        "colab": {
          "base_uri": "https://localhost:8080/"
        },
        "id": "XTV993TqGadg",
        "outputId": "d2ac4fda-4fcd-41e6-a22a-a8f33c51f47f"
      },
      "execution_count": null,
      "outputs": [
        {
          "output_type": "stream",
          "name": "stdout",
          "text": [
            "el area es -0.12721200023934953\n"
          ]
        }
      ]
    },
    {
      "cell_type": "markdown",
      "source": [
        "# **Problema 4: Integración numérica (Método del trapecio)**"
      ],
      "metadata": {
        "id": "duNYh9ZgGnYw"
      }
    },
    {
      "cell_type": "code",
      "source": [
        "import numpy as np\n",
        "import matplotlib.pyplot as plt\n",
        "import math\n",
        "x = np.array(range(1, 100))*0.05\n",
        "y= np.zeros(len(x))\n",
        "for i in range(len(x)):\n",
        "    y[i]= ((math.exp(x[i]))/x[i])\n",
        "plt.plot(x,y)\n",
        "plt.show()"
      ],
      "metadata": {
        "colab": {
          "base_uri": "https://localhost:8080/",
          "height": 430
        },
        "id": "vTZ7UwBDGwJ8",
        "outputId": "1a3acad0-ab8d-4971-ec24-4e454975399a"
      },
      "execution_count": null,
      "outputs": [
        {
          "output_type": "display_data",
          "data": {
            "text/plain": [
              "<Figure size 640x480 with 1 Axes>"
            ],
            "image/png": "[encoded data removed]"
          },
          "metadata": {}
        }
      ]
    },
    {
      "cell_type": "code",
      "source": [
        "# 25 intervalos\n",
        "def f(x):\n",
        "    return ((math.exp(x))/x)\n",
        "n = 25\n",
        "a = 0.000000000001\n",
        "b = 5\n",
        "dx = (b-a)/n\n",
        "suma = 0\n",
        "for i in range(n):\n",
        "    area = (f(a) + f(a+dx))*dx/2\n",
        "    suma = suma + area\n",
        "    a = a + dx\n",
        "print (\"el area es\", suma)"
      ],
      "metadata": {
        "colab": {
          "base_uri": "https://localhost:8080/"
        },
        "id": "RglDfOdfG2BZ",
        "outputId": "6b728ae8-5ee2-4520-e1e8-e299dbfffb3e"
      },
      "execution_count": null,
      "outputs": [
        {
          "output_type": "stream",
          "name": "stdout",
          "text": [
            "el area es 100000000041.85216\n"
          ]
        }
      ]
    },
    {
      "cell_type": "markdown",
      "source": [
        "**NOTA: observando la gráfica, podemos ver que el\n",
        "area bajo la curva aumenta entre mas nos acerquemos a a=0, por lo tanto la integral en el\n",
        "intervalo de [0, 5] tiende a infinito.**"
      ],
      "metadata": {
        "id": "etacQkOIIAzx"
      }
    }
  ]
}