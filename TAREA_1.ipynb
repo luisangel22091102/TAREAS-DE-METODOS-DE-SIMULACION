{
  "nbformat": 4,
  "nbformat_minor": 0,
  "metadata": {
    "colab": {
      "provenance": [],
      "authorship_tag": "ABX9TyPBT3igi1CllbgRVMc0DeDk",
      "include_colab_link": true
    },
    "kernelspec": {
      "name": "python3",
      "display_name": "Python 3"
    },
    "language_info": {
      "name": "python"
    }
  },
  "cells": [
    {
      "cell_type": "markdown",
      "metadata": {
        "id": "view-in-github",
        "colab_type": "text"
      },
      "source": [
        "<a href=\"https://colab.research.google.com/github/luisangel22091102/TAREAS-DE-METODOS-DE-SIMULACION/blob/main/TAREA_1.ipynb\" target=\"_parent\"><img src=\"https://colab.research.google.com/assets/colab-badge.svg\" alt=\"Open In Colab\"/></a>"
      ]
    },
    {
      "cell_type": "markdown",
      "source": [
        "Luis Ángel Méndez Vásquez\n",
        "\n",
        "Matrícula: 202086765\n",
        "\n",
        "¿Qué es el método de Horner?\n",
        "\n",
        "Es un algoritmo matemático utilizado para evaluar polinomios de forma eficiente. La principal ventaja de este método es que reduce el número de operaciones necesarias para calcular el valor de un polinomio, especialmente cuando se evalúa en un valor específico de la variable.\n",
        "\n",
        "Forma general de un polinomio\n",
        "\n",
        "Supongamos que tenemos un polinomio de la forma general:\n",
        "\n",
        "\\[P(x) = a_n x^n + a_{n-1} x^{n-1} + \\dots + a_1 x + a_0\\]\n",
        "\n",
        "El algoritmo de Horner reescribe este polinomio de la siguiente manera para minimizar las operaciones:\n",
        "\n",
        "\\[P(x) = (((a_n x + a_{n-1}) x + a_{n-2}) x + \\dots) x + a_1) x + a_0\\]\n"
      ],
      "metadata": {
        "id": "Q45Ckzgd2gmg"
      }
    },
    {
      "cell_type": "markdown",
      "source": [],
      "metadata": {
        "id": "NcgK98Gr4FCS"
      }
    },
    {
      "cell_type": "markdown",
      "source": [
        "# Análisis: Serie Directa vs. Regla de Horner\n",
        "\n",
        "La **serie directa** representa un polinomio de manera convencional, expresando cada término individual del polinomio como una potencia de \\(x\\) multiplicada por su respectivo coeficiente. Por ejemplo, para un polinomio \\(P(x)\\), la serie directa se vería así:\n",
        "\n",
        "\\[\n",
        "P(x) = a_n x^n + a_{n-1} x^{n-1} + \\dots + a_1 x + a_0\n",
        "\\]\n",
        "\n",
        "En cambio, la **computación parcial**, basada en la regla de Horner, reorganiza el polinomio de una manera que facilita su evaluación eficiente. Esta técnica presenta el polinomio de forma diferente, empleando una secuencia de operaciones anidadas de suma y multiplicación. La expresión se parece a esta:\n",
        "\n",
        "\\[\n",
        "P(x) = (...((a_n x + a_{n-1}) x + a_{n-2}) x + \\dots) x + a_0\n",
        "\\]\n",
        "\n",
        "La diferencia fundamental radica en cómo se presentan las operaciones matemáticas. Mientras que la serie directa muestra el polinomio de una manera más clara y directa, la computación parcial a través de la regla de Horner está diseñada para mejorar la eficiencia en el cálculo del polinomio, reduciendo el número total de operaciones necesarias para evaluarlo en un valor específico de \\(x\\).\n"
      ],
      "metadata": {
        "id": "FLJaGNfY37Y8"
      }
    },
    {
      "cell_type": "code",
      "execution_count": null,
      "metadata": {
        "colab": {
          "base_uri": "https://localhost:8080/"
        },
        "id": "XzUTkVEgWbmP",
        "outputId": "6fa0dca2-a84a-416e-c650-d43de72e1982"
      },
      "outputs": [
        {
          "output_type": "stream",
          "name": "stdout",
          "text": [
            "128\n"
          ]
        }
      ],
      "source": [
        "#Calculo de terminos por separado\n",
        "def horner(coefs, x):\n",
        "    ac = 0\n",
        "    for i, a in enumerate(coefs):\n",
        "        ac += (x ** i) * a\n",
        "    return ac\n",
        "print(horner((-19,7,-4,6),3))"
      ]
    },
    {
      "cell_type": "code",
      "source": [
        "#Ejemplo 1\n",
        "def horner(coefs, x):\n",
        "    ac = 0\n",
        "    for i, a in enumerate(coefs):\n",
        "        ac += (x ** i) * a\n",
        "    return ac\n",
        "print(horner((12,3,-2,37),2))"
      ],
      "metadata": {
        "colab": {
          "base_uri": "https://localhost:8080/"
        },
        "id": "T_03_m7LeoFE",
        "outputId": "120be7e6-b3a1-48a9-a5c7-e7bfab7829d8"
      },
      "execution_count": null,
      "outputs": [
        {
          "output_type": "stream",
          "name": "stdout",
          "text": [
            "306\n"
          ]
        }
      ]
    },
    {
      "cell_type": "code",
      "source": [
        "#metodo iterativo\n",
        "def horner(coefs, x):\n",
        "    ac = 0\n",
        "    xn = 1\n",
        "    for i in coefs:\n",
        "        ac += xn * i\n",
        "        xn *= x\n",
        "    return ac\n",
        "print(horner((-19,7,-4,6),3))"
      ],
      "metadata": {
        "colab": {
          "base_uri": "https://localhost:8080/"
        },
        "id": "zUmIqMCTeo1o",
        "outputId": "0377505d-311a-417a-a4f0-8a69d0feaa7e"
      },
      "execution_count": null,
      "outputs": [
        {
          "output_type": "stream",
          "name": "stdout",
          "text": [
            "128\n"
          ]
        }
      ]
    },
    {
      "cell_type": "code",
      "source": [
        "#Ejemplo 1\n",
        "def horner (coefs, x) :\n",
        "    ac = 0\n",
        "    xn = 1\n",
        "    for i in coefs:\n",
        "        ac += xn * i\n",
        "        xn *= x\n",
        "    return ac\n",
        "print (horner((12,3,-2,37),2))"
      ],
      "metadata": {
        "colab": {
          "base_uri": "https://localhost:8080/"
        },
        "id": "8qN7Hw_dfIW3",
        "outputId": "5e03232b-a759-4e2f-c512-f75d29f7325a"
      },
      "execution_count": null,
      "outputs": [
        {
          "output_type": "stream",
          "name": "stdout",
          "text": [
            "306\n"
          ]
        }
      ]
    },
    {
      "cell_type": "code",
      "source": [
        "#Ejemplo2\n",
        "def horner (coefs, x) :\n",
        "    ac = 0\n",
        "    xn = 1\n",
        "    for i in coefs:\n",
        "        ac += xn * i\n",
        "        xn *= x\n",
        "    return ac\n",
        "print (horner((-20,24,45,56),5))"
      ],
      "metadata": {
        "colab": {
          "base_uri": "https://localhost:8080/"
        },
        "id": "E6KqOoVHfqxZ",
        "outputId": "16a8d8bf-f36f-4768-cdb8-194282d7891c"
      },
      "execution_count": null,
      "outputs": [
        {
          "output_type": "stream",
          "name": "stdout",
          "text": [
            "8225\n"
          ]
        }
      ]
    },
    {
      "cell_type": "code",
      "source": [
        "#Regla de Horner\n",
        "def horner(coefs, x):\n",
        "    ac = coefs[-1]\n",
        "    i = len(coefs) - 2\n",
        "    while i >= 0:\n",
        "        ac = ac * x + coefs[i]\n",
        "        i -= 1\n",
        "    return ac\n",
        "print(horner((-19,7,-4,6),3))"
      ],
      "metadata": {
        "colab": {
          "base_uri": "https://localhost:8080/"
        },
        "id": "GHjlHjTYf0Nc",
        "outputId": "ed370860-63d6-46d0-fd4b-2c0570b476c0"
      },
      "execution_count": null,
      "outputs": [
        {
          "output_type": "stream",
          "name": "stdout",
          "text": [
            "128\n"
          ]
        }
      ]
    },
    {
      "cell_type": "code",
      "source": [
        "#Ejemplo 1\n",
        "def horner(coefs, x) :\n",
        "    ac = coefs[-1]\n",
        "    i = len (coefs) - 2\n",
        "    while i >= 0:\n",
        "        ac = ac * x + coefs[i]\n",
        "        i -= 1\n",
        "    return ac\n",
        "print (horner((12,3,-2,37),2) )"
      ],
      "metadata": {
        "colab": {
          "base_uri": "https://localhost:8080/"
        },
        "id": "MiG8e4IHf7Zd",
        "outputId": "7e05823b-b45d-4df0-b925-98b3997320ca"
      },
      "execution_count": null,
      "outputs": [
        {
          "output_type": "stream",
          "name": "stdout",
          "text": [
            "306\n"
          ]
        }
      ]
    },
    {
      "cell_type": "code",
      "source": [
        "#Ejemplo 2\n",
        "def horner(coefs, x) :\n",
        "    ac = coefs[-1]\n",
        "    i = len (coefs) - 2\n",
        "    while i >= 0:\n",
        "        ac = ac * x + coefs[i]\n",
        "        i -= 1\n",
        "    return ac\n",
        "print (horner((-20,24,45,56),5) )"
      ],
      "metadata": {
        "colab": {
          "base_uri": "https://localhost:8080/"
        },
        "id": "1C5cs0Q5gD2H",
        "outputId": "b250e908-d974-4905-c3cb-fcdee593ee4a"
      },
      "execution_count": null,
      "outputs": [
        {
          "output_type": "stream",
          "name": "stdout",
          "text": [
            "8225\n"
          ]
        }
      ]
    },
    {
      "cell_type": "markdown",
      "source": [
        "\n",
        "\n",
        "*   Actividad (b):Datos de estrellas: usando el programa hrdiagram.py y los datos de stars.dat, reproducir la gráfica. Graficar con y sin pylab.\n",
        "\n"
      ],
      "metadata": {
        "id": "cGvc-h8LgF7n"
      }
    },
    {
      "cell_type": "code",
      "source": [
        " #Grafica de base de datos stars.dat utilizando el programa hrdiagram.py\n",
        "from pylab import scatter,xlabel,ylabel,xlim,ylim,show\n",
        "from numpy import loadtxt\n",
        "data = loadtxt(\"stars.dat\",float)\n",
        "x = data[:,0]\n",
        "y = data[:,1]\n",
        "scatter(x,y)\n",
        "xlabel(\"Temperature\")\n",
        "ylabel(\"Magnitude\")\n",
        "xlim(0,13000)\n",
        "ylim(-5,20)\n",
        "show()"
      ],
      "metadata": {
        "id": "diUKx1LUgRAQ",
        "collapsed": true
      },
      "execution_count": null,
      "outputs": []
    },
    {
      "cell_type": "code",
      "source": [
        "#Grafica de base de datos stars.dat sin utilizar la librería pylab\n",
        "import matplotlib.pyplot as plt\n",
        "import numpy as np\n",
        "data = np.loadtxt(\"stars.dat\", float)\n",
        "x = data[:, 0]\n",
        "y = data[:, 1]\n",
        "plt.scatter(x, y)\n",
        "plt.xlabel(\"Temperatura\")\n",
        "plt.ylabel(\"Magnitud\")\n",
        "plt.xlim(0, 13000)\n",
        "plt.ylim(-5, 20)\n",
        "plt.show()"
      ],
      "metadata": {
        "colab": {
          "base_uri": "https://localhost:8080/",
          "height": 455
        },
        "id": "m39DnFbygowy",
        "outputId": "3502114d-4200-404d-80a0-7c785f6195c2"
      },
      "execution_count": null,
      "outputs": [
        {
          "output_type": "display_data",
          "data": {
            "text/plain": [
              "<Figure size 640x480 with 1 Axes>"
            ],
            "image/png": "[encoded data removed]"
          },
          "metadata": {}
        }
      ]
    },
    {
      "cell_type": "markdown",
      "source": [
        "**Análisis crítico:**\n",
        "\n",
        "\n",
        "Eficiencia computacional: La estructura iterativa del algoritmo permite que sea ideal para implementaciones en lenguajes de programación y hardware de bajo rendimiento.\n",
        "\n",
        "Versatilidad: Es aplicable en múltiples áreas, desde interpolación numérica hasta optimización de ecuaciones algebraicas.\n",
        "\n",
        "\n",
        "Reducción del error numérico: Al minimizar el número de operaciones, también se reduce la acumulación de errores de redondeo en cálculos con punto flotante"
      ],
      "metadata": {
        "id": "MvDQapY6yOaW"
      }
    },
    {
      "cell_type": "markdown",
      "source": [
        "**EVALUACION DE COS(X)**"
      ],
      "metadata": {
        "id": "1KoIpvuozVIO"
      }
    },
    {
      "cell_type": "markdown",
      "source": [
        "La evaluación de cos(x) utilizando el algoritmo de Horner es un enfoque eficiente basado en la reorganización de su serie de Taylor para reducir el número de operaciones. Este método se usa principalmente en contextos computacionales donde la eficiencia y precisión son cruciales."
      ],
      "metadata": {
        "id": "zBj24-fR5LWZ"
      }
    },
    {
      "cell_type": "markdown",
      "source": [
        "\n",
        "\n",
        "*   Actividad (a): implementar la evaluación de cos$(x)$ mediante el cálculo de la serie directa\n",
        "\n"
      ],
      "metadata": {
        "id": "PFuAWPqGeHs1"
      }
    },
    {
      "cell_type": "code",
      "source": [
        "import math as mt\n",
        "\n",
        "def cos(x, it):\n",
        "  aproximación = 0\n",
        "  for i in range(it):\n",
        "    term = ((-1)**i / mt.factorial(2 * i)) * x**(2 * i)\n",
        "    aproximación = aproximación + term\n",
        "  return aproximación, i\n",
        "# Comprobación de la presición del algoritmo:\n",
        "print(cos(5, 30))\n",
        "print(mt.cos(5))"
      ],
      "metadata": {
        "colab": {
          "base_uri": "https://localhost:8080/"
        },
        "id": "uj8GDEvwwVsp",
        "outputId": "e7304881-c416-475e-9119-9b71da958cba"
      },
      "execution_count": null,
      "outputs": [
        {
          "output_type": "stream",
          "name": "stdout",
          "text": [
            "(0.28366218546322375, 29)\n",
            "0.28366218546322625\n"
          ]
        }
      ]
    },
    {
      "cell_type": "markdown",
      "source": [
        "\n",
        "\n",
        "*   Actividad (b): implementar la evaluación de cos$(x)$ mediante el cálculo de la computación parcial.\n",
        "\n"
      ],
      "metadata": {
        "id": "brFwabdlw5H8"
      }
    },
    {
      "cell_type": "code",
      "source": [
        "import math as mt\n",
        "\n",
        "def cos2(x, epsilon = 1e-15, maximo_termino = 300):\n",
        "  aproximación = 0\n",
        "  i = 0\n",
        "  term = float('inf')\n",
        "  while abs(term) > epsilon and i < maximo_termino:\n",
        "      term = ((-1)**i / mt.factorial(2 * i)) * x**(2 * i)\n",
        "      aproximación = aproximación + term\n",
        "      i = i + 1\n",
        "  return aproximación, i\n",
        "# Comprobación de la presición del algoritmo:\n",
        "print(cos2(10))\n",
        "print(mt.cos(10))"
      ],
      "metadata": {
        "colab": {
          "base_uri": "https://localhost:8080/"
        },
        "id": "cVI1psDdxgP5",
        "outputId": "d52e7531-7971-4428-9fcc-f9f2b1fd7996"
      },
      "execution_count": null,
      "outputs": [
        {
          "output_type": "stream",
          "name": "stdout",
          "text": [
            "(-0.8390715290756898, 27)\n",
            "-0.8390715290764524\n"
          ]
        }
      ]
    },
    {
      "cell_type": "markdown",
      "source": [
        "\n",
        "**Convergencia de las evaluaciones**\n",
        "\n",
        "\n",
        "\n",
        "* Para inciso (a):  valores pequeños de $x$.\n",
        "\n",
        "---\n",
        "\n",
        "\n",
        "\n",
        "\n",
        "\n",
        "\n"
      ],
      "metadata": {
        "id": "q0ALA9vEyaI6"
      }
    },
    {
      "cell_type": "code",
      "source": [
        "import numpy as np\n",
        "import math as mt\n",
        "data = np.linspace(-5*np.pi, 5*np.pi, 26, endpoint = True)\n",
        "print('a) Funcion cos')\n",
        "print(\"\\t x \\t\\t Iteraciones \\t\\t Suma \\t\\t\\t |suma-cos(x)|/cos(x)\")\n",
        "for x in data:\n",
        "    resultado, iteracion = cos(x, 40)\n",
        "    error = abs(resultado - mt.cos(x))/mt.cos(x)\n",
        "    print(f'{x:f} \\t\\t {iteracion} \\t\\t {resultado} \\t\\t {error}')\n",
        "print()\n",
        "print('b) Funcion cos2')\n",
        "print(\"\\t x \\t\\t Iteraciones \\t\\t Suma \\t\\t\\t |suma-cos(x)|/cos(x)\")\n",
        "for x in data:\n",
        "    resultado, iteracion = cos2(x)\n",
        "    error = abs(resultado - mt.cos(x))/mt.cos(x)\n",
        "    print(f'{x:f} \\t\\t {iteracion} \\t\\t {resultado} \\t\\t {error}')"
      ],
      "metadata": {
        "colab": {
          "base_uri": "https://localhost:8080/"
        },
        "id": "fAU8CBlxyzVK",
        "outputId": "2b41b557-6882-4760-c609-0974ccfd4745"
      },
      "execution_count": null,
      "outputs": [
        {
          "output_type": "stream",
          "name": "stdout",
          "text": [
            "a) Funcion cos\n",
            "\t x \t\t Iteraciones \t\t Suma \t\t\t |suma-cos(x)|/cos(x)\n",
            "-15.707963 \t\t 39 \t\t -0.9999999999832766 \t\t -1.6723400442231195e-11\n",
            "-14.451326 \t\t 39 \t\t -0.3090169943355007 \t\t -1.2765048289194875e-10\n",
            "-13.194689 \t\t 39 \t\t 0.8090169943787205 \t\t 4.663524908396537e-12\n",
            "-11.938052 \t\t 39 \t\t 0.8090169943749397 \t\t 9.194484561768183e-15\n",
            "-10.681415 \t\t 39 \t\t -0.3090169943746349 \t\t -1.012618610583343e-12\n",
            "-9.424778 \t\t 39 \t\t -0.9999999999998144 \t\t -1.8562928971732617e-13\n",
            "-8.168141 \t\t 39 \t\t -0.30901699437490965 \t\t -1.212555547531946e-13\n",
            "-6.911504 \t\t 39 \t\t 0.8090169943749583 \t\t 1.3311417947634527e-14\n",
            "-5.654867 \t\t 39 \t\t 0.8090169943749473 \t\t 0.0\n",
            "-4.398230 \t\t 39 \t\t -0.3090169943749474 \t\t -5.389135766808642e-16\n",
            "-3.141593 \t\t 39 \t\t -1.000000000000001 \t\t -1.1102230246251565e-15\n",
            "-1.884956 \t\t 39 \t\t -0.3090169943749474 \t\t -1.7963785889362153e-16\n",
            "-0.628319 \t\t 39 \t\t 0.8090169943749475 \t\t 0.0\n",
            "0.628319 \t\t 39 \t\t 0.8090169943749475 \t\t 0.0\n",
            "1.884956 \t\t 39 \t\t -0.3090169943749474 \t\t -1.7963785889362153e-16\n",
            "3.141593 \t\t 39 \t\t -1.000000000000001 \t\t -1.1102230246251565e-15\n",
            "4.398230 \t\t 39 \t\t -0.3090169943749474 \t\t -5.389135766808642e-16\n",
            "5.654867 \t\t 39 \t\t 0.8090169943749473 \t\t 0.0\n",
            "6.911504 \t\t 39 \t\t 0.8090169943749583 \t\t 1.3311417947634527e-14\n",
            "8.168141 \t\t 39 \t\t -0.30901699437490965 \t\t -1.212555547531946e-13\n",
            "9.424778 \t\t 39 \t\t -0.9999999999998144 \t\t -1.8562928971732617e-13\n",
            "10.681415 \t\t 39 \t\t -0.3090169943746349 \t\t -1.012618610583343e-12\n",
            "11.938052 \t\t 39 \t\t 0.8090169943749397 \t\t 9.194484561768183e-15\n",
            "13.194689 \t\t 39 \t\t 0.8090169943787205 \t\t 4.663524908396537e-12\n",
            "14.451326 \t\t 39 \t\t -0.3090169943355007 \t\t -1.2765048289194875e-10\n",
            "15.707963 \t\t 39 \t\t -0.9999999999832766 \t\t -1.6723400442231195e-11\n",
            "\n",
            "b) Funcion cos2\n",
            "\t x \t\t Iteraciones \t\t Suma \t\t\t |suma-cos(x)|/cos(x)\n",
            "-15.707963 \t\t 35 \t\t -0.9999999999832766 \t\t -1.6723400442231195e-11\n",
            "-14.451326 \t\t 34 \t\t -0.3090169943355007 \t\t -1.2765048289194875e-10\n",
            "-13.194689 \t\t 32 \t\t 0.8090169943787205 \t\t 4.663524908396537e-12\n",
            "-11.938052 \t\t 30 \t\t 0.8090169943749397 \t\t 9.194484561768183e-15\n",
            "-10.681415 \t\t 28 \t\t -0.3090169943746349 \t\t -1.012618610583343e-12\n",
            "-9.424778 \t\t 26 \t\t -0.9999999999998144 \t\t -1.8562928971732617e-13\n",
            "-8.168141 \t\t 24 \t\t -0.30901699437490965 \t\t -1.212555547531946e-13\n",
            "-6.911504 \t\t 22 \t\t 0.8090169943749583 \t\t 1.3311417947634527e-14\n",
            "-5.654867 \t\t 20 \t\t 0.8090169943749473 \t\t 0.0\n",
            "-4.398230 \t\t 18 \t\t -0.3090169943749474 \t\t -5.389135766808642e-16\n",
            "-3.141593 \t\t 15 \t\t -1.000000000000001 \t\t -1.1102230246251565e-15\n",
            "-1.884956 \t\t 13 \t\t -0.3090169943749474 \t\t -1.7963785889362153e-16\n",
            "-0.628319 \t\t 9 \t\t 0.8090169943749475 \t\t 0.0\n",
            "0.628319 \t\t 9 \t\t 0.8090169943749475 \t\t 0.0\n",
            "1.884956 \t\t 13 \t\t -0.3090169943749474 \t\t -1.7963785889362153e-16\n",
            "3.141593 \t\t 15 \t\t -1.000000000000001 \t\t -1.1102230246251565e-15\n",
            "4.398230 \t\t 18 \t\t -0.3090169943749474 \t\t -5.389135766808642e-16\n",
            "5.654867 \t\t 20 \t\t 0.8090169943749473 \t\t 0.0\n",
            "6.911504 \t\t 22 \t\t 0.8090169943749583 \t\t 1.3311417947634527e-14\n",
            "8.168141 \t\t 24 \t\t -0.30901699437490965 \t\t -1.212555547531946e-13\n",
            "9.424778 \t\t 26 \t\t -0.9999999999998144 \t\t -1.8562928971732617e-13\n",
            "10.681415 \t\t 28 \t\t -0.3090169943746349 \t\t -1.012618610583343e-12\n",
            "11.938052 \t\t 30 \t\t 0.8090169943749397 \t\t 9.194484561768183e-15\n",
            "13.194689 \t\t 32 \t\t 0.8090169943787205 \t\t 4.663524908396537e-12\n",
            "14.451326 \t\t 34 \t\t -0.3090169943355007 \t\t -1.2765048289194875e-10\n",
            "15.707963 \t\t 35 \t\t -0.9999999999832766 \t\t -1.6723400442231195e-11\n"
          ]
        }
      ]
    },
    {
      "cell_type": "markdown",
      "source": [
        "\n",
        "\n",
        "*   Para inciso (b): valores grandes de $x$.\n",
        "\n",
        "---\n",
        "\n",
        "\n",
        "\n"
      ],
      "metadata": {
        "id": "gULTJqILz4X7"
      }
    },
    {
      "cell_type": "code",
      "source": [
        "import numpy as np\n",
        "import math as mt\n",
        "data = np.linspace(-5*np.pi, 5*np.pi, 26, endpoint = True)\n",
        "print('a) Funcion cos')\n",
        "print(\"\\t x \\t\\t Iteraciones \\t\\t Suma \\t\\t\\t |suma-cos(x)|/cos(x)\")\n",
        "for x in data:\n",
        "    resultado, iteracion = cos(x, 200)\n",
        "    error = abs(resultado - mt.cos(x))/mt.cos(x)\n",
        "    print(f'{x:f} \\t\\t {iteracion} \\t\\t {resultado} \\t\\t {error}')\n",
        "print()\n",
        "print('b) Funcion cos2')\n",
        "print(\"\\t x \\t\\t Iteraciones \\t\\t Suma \\t\\t\\t |suma-cos(x)|/cos(x)\")\n",
        "for x in data:\n",
        "    resultado, iteracion = cos2(x)\n",
        "    error = abs(resultado - mt.cos(x))/mt.cos(x)\n",
        "    print(f'{x:f} \\t\\t {iteracion} \\t\\t {resultado} \\t\\t {error}')"
      ],
      "metadata": {
        "colab": {
          "base_uri": "https://localhost:8080/"
        },
        "id": "QenHaDeM0N-a",
        "outputId": "6029792c-d679-4843-85a2-91ff26d1ae14"
      },
      "execution_count": null,
      "outputs": [
        {
          "output_type": "stream",
          "name": "stdout",
          "text": [
            "a) Funcion cos\n",
            "\t x \t\t Iteraciones \t\t Suma \t\t\t |suma-cos(x)|/cos(x)\n",
            "-15.707963 \t\t 199 \t\t nan \t\t nan\n",
            "-14.451326 \t\t 199 \t\t nan \t\t nan\n",
            "-13.194689 \t\t 199 \t\t nan \t\t nan\n",
            "-11.938052 \t\t 199 \t\t nan \t\t nan\n",
            "-10.681415 \t\t 199 \t\t nan \t\t nan\n",
            "-9.424778 \t\t 199 \t\t nan \t\t nan\n",
            "-8.168141 \t\t 199 \t\t nan \t\t nan\n",
            "-6.911504 \t\t 199 \t\t nan \t\t nan\n",
            "-5.654867 \t\t 199 \t\t 0.8090169943749473 \t\t 0.0\n",
            "-4.398230 \t\t 199 \t\t -0.3090169943749474 \t\t -5.389135766808642e-16\n",
            "-3.141593 \t\t 199 \t\t -1.000000000000001 \t\t -1.1102230246251565e-15\n",
            "-1.884956 \t\t 199 \t\t -0.3090169943749474 \t\t -1.7963785889362153e-16\n",
            "-0.628319 \t\t 199 \t\t 0.8090169943749475 \t\t 0.0\n",
            "0.628319 \t\t 199 \t\t 0.8090169943749475 \t\t 0.0\n",
            "1.884956 \t\t 199 \t\t -0.3090169943749474 \t\t -1.7963785889362153e-16\n",
            "3.141593 \t\t 199 \t\t -1.000000000000001 \t\t -1.1102230246251565e-15\n",
            "4.398230 \t\t 199 \t\t -0.3090169943749474 \t\t -5.389135766808642e-16\n",
            "5.654867 \t\t 199 \t\t 0.8090169943749473 \t\t 0.0\n",
            "6.911504 \t\t 199 \t\t nan \t\t nan\n",
            "8.168141 \t\t 199 \t\t nan \t\t nan\n",
            "9.424778 \t\t 199 \t\t nan \t\t nan\n",
            "10.681415 \t\t 199 \t\t nan \t\t nan\n",
            "11.938052 \t\t 199 \t\t nan \t\t nan\n",
            "13.194689 \t\t 199 \t\t nan \t\t nan\n",
            "14.451326 \t\t 199 \t\t nan \t\t nan\n",
            "15.707963 \t\t 199 \t\t nan \t\t nan\n",
            "\n",
            "b) Funcion cos2\n",
            "\t x \t\t Iteraciones \t\t Suma \t\t\t |suma-cos(x)|/cos(x)\n",
            "-15.707963 \t\t 35 \t\t -0.9999999999832766 \t\t -1.6723400442231195e-11\n",
            "-14.451326 \t\t 34 \t\t -0.3090169943355007 \t\t -1.2765048289194875e-10\n",
            "-13.194689 \t\t 32 \t\t 0.8090169943787205 \t\t 4.663524908396537e-12\n",
            "-11.938052 \t\t 30 \t\t 0.8090169943749397 \t\t 9.194484561768183e-15\n",
            "-10.681415 \t\t 28 \t\t -0.3090169943746349 \t\t -1.012618610583343e-12\n",
            "-9.424778 \t\t 26 \t\t -0.9999999999998144 \t\t -1.8562928971732617e-13\n",
            "-8.168141 \t\t 24 \t\t -0.30901699437490965 \t\t -1.212555547531946e-13\n",
            "-6.911504 \t\t 22 \t\t 0.8090169943749583 \t\t 1.3311417947634527e-14\n",
            "-5.654867 \t\t 20 \t\t 0.8090169943749473 \t\t 0.0\n",
            "-4.398230 \t\t 18 \t\t -0.3090169943749474 \t\t -5.389135766808642e-16\n",
            "-3.141593 \t\t 15 \t\t -1.000000000000001 \t\t -1.1102230246251565e-15\n",
            "-1.884956 \t\t 13 \t\t -0.3090169943749474 \t\t -1.7963785889362153e-16\n",
            "-0.628319 \t\t 9 \t\t 0.8090169943749475 \t\t 0.0\n",
            "0.628319 \t\t 9 \t\t 0.8090169943749475 \t\t 0.0\n",
            "1.884956 \t\t 13 \t\t -0.3090169943749474 \t\t -1.7963785889362153e-16\n",
            "3.141593 \t\t 15 \t\t -1.000000000000001 \t\t -1.1102230246251565e-15\n",
            "4.398230 \t\t 18 \t\t -0.3090169943749474 \t\t -5.389135766808642e-16\n",
            "5.654867 \t\t 20 \t\t 0.8090169943749473 \t\t 0.0\n",
            "6.911504 \t\t 22 \t\t 0.8090169943749583 \t\t 1.3311417947634527e-14\n",
            "8.168141 \t\t 24 \t\t -0.30901699437490965 \t\t -1.212555547531946e-13\n",
            "9.424778 \t\t 26 \t\t -0.9999999999998144 \t\t -1.8562928971732617e-13\n",
            "10.681415 \t\t 28 \t\t -0.3090169943746349 \t\t -1.012618610583343e-12\n",
            "11.938052 \t\t 30 \t\t 0.8090169943749397 \t\t 9.194484561768183e-15\n",
            "13.194689 \t\t 32 \t\t 0.8090169943787205 \t\t 4.663524908396537e-12\n",
            "14.451326 \t\t 34 \t\t -0.3090169943355007 \t\t -1.2765048289194875e-10\n",
            "15.707963 \t\t 35 \t\t -0.9999999999832766 \t\t -1.6723400442231195e-11\n"
          ]
        },
        {
          "output_type": "stream",
          "name": "stderr",
          "text": [
            "<ipython-input-3-f59ae9f0cb3c>:6: RuntimeWarning: overflow encountered in double_scalars\n",
            "  term = ((-1)**i / mt.factorial(2 * i)) * x**(2 * i)\n",
            "<ipython-input-3-f59ae9f0cb3c>:6: RuntimeWarning: invalid value encountered in double_scalars\n",
            "  term = ((-1)**i / mt.factorial(2 * i)) * x**(2 * i)\n"
          ]
        }
      ]
    }
  ]
}